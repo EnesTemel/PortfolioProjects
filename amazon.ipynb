{
 "cells": [
  {
   "cell_type": "code",
   "execution_count": 19,
   "metadata": {},
   "outputs": [],
   "source": [
    "import requests\n",
    "from bs4 import BeautifulSoup\n",
    "\n",
    "url = \"https://www.amazon.com.tr/s?rh=n%3A13808199031&fs=true&ref=lp_13808199031_sar\"\n",
    "\n",
    "response = requests.get(url)\n",
    "soup = BeautifulSoup(response.content, \"html.parser\")\n",
    "\n",
    "# find all the items on the page\n",
    "items = soup.find_all(\"div\", {\"data-component-type\": \"s-search-result\", \"class\": \"s-result-item\"})"
   ]
  },
  {
   "cell_type": "code",
   "execution_count": 27,
   "metadata": {},
   "outputs": [],
   "source": [
    "import requests\n",
    "from bs4 import BeautifulSoup\n",
    "\n",
    "url = \"https://www.amazon.com.tr/s?rh=n%3A13808199031&fs=true&ref=lp_13808199031_sar\"\n",
    "\n",
    "headers = {\n",
    "    \"User-Agent\": \"Mozilla/5.0 (Windows NT 10.0; Win64; x64) AppleWebKit/537.36 (KHTML, like Gecko) Chrome/58.0.3029.110 Safari/537.36\"\n",
    "}\n",
    "\n",
    "response = requests.get(url, headers=headers)\n",
    "soup = BeautifulSoup(response.content, \"html.parser\")\n",
    "\n",
    "# find the container for all the items on the page\n",
    "items_container = soup.find(\"div\", {\"class\": \"s-main-slot s-result-list s-search-results sg-row\"})\n",
    "\n"
   ]
  },
  {
   "cell_type": "code",
   "execution_count": null,
   "metadata": {},
   "outputs": [],
   "source": [
    "# find all the items within the container\n",
    "items = items_container.find_all(\"div\", {\"data-component-type\": \"s-search-result\"})\n",
    "\n",
    "# iterate over each item and extract the required information\n",
    "for item in items:\n",
    "    # extract item name\n",
    "    item_name = item.h2.a.text.strip()\n",
    "    print(\"Item name:\", item_name)\n",
    "\n",
    "    # extract item image link\n",
    "    item_image = item.find(\"img\", {\"class\": \"s-image\"})[\"src\"]\n",
    "    print(\"Item image link:\", item_image)\n",
    "\n",
    "    # extract item description\n",
    "    item_description = item.find(\"span\", {\"class\": \"a-size-base-plus a-color-base a-text-normal\"}).text.strip()\n",
    "    print(\"Item description:\", item_description)\n",
    "\n",
    "    # extract item price\n",
    "    item_price = item.find(\"span\", {\"class\": \"a-price-whole\"}).text.strip()\n",
    "    print(\"Item price:\", item_price)\n",
    "\n",
    "    print(\"-----------------------\")\n"
   ]
  }
 ],
 "metadata": {
  "kernelspec": {
   "display_name": "Python 3",
   "language": "python",
   "name": "python3"
  },
  "language_info": {
   "codemirror_mode": {
    "name": "ipython",
    "version": 3
   },
   "file_extension": ".py",
   "mimetype": "text/x-python",
   "name": "python",
   "nbconvert_exporter": "python",
   "pygments_lexer": "ipython3",
   "version": "3.9.7"
  },
  "orig_nbformat": 4
 },
 "nbformat": 4,
 "nbformat_minor": 2
}
